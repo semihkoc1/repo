{
  "nbformat": 4,
  "nbformat_minor": 0,
  "metadata": {
    "colab": {
      "name": "Armstrong.ipynb",
      "provenance": [],
      "authorship_tag": "ABX9TyNFIVlF2wkvK//1aaf3hViv",
      "include_colab_link": true
    },
    "kernelspec": {
      "name": "python3",
      "display_name": "Python 3"
    },
    "language_info": {
      "name": "python"
    }
  },
  "cells": [
    {
      "cell_type": "markdown",
      "metadata": {
        "id": "view-in-github",
        "colab_type": "text"
      },
      "source": [
        "<a href=\"https://colab.research.google.com/github/semihkoc1/repo/blob/main/Armstrong.ipynb\" target=\"_parent\"><img src=\"https://colab.research.google.com/assets/colab-badge.svg\" alt=\"Open In Colab\"/></a>"
      ]
    },
    {
      "cell_type": "code",
      "metadata": {
        "colab": {
          "base_uri": "https://localhost:8080/"
        },
        "id": "QNop_WMezpwQ",
        "outputId": "beeec22e-21be-4376-cfa5-10746ba042a0"
      },
      "source": [
        "n = input()\n",
        "n_digit = len(n)\n",
        "n=int(n)\n",
        "copy_n=n\n",
        "result = 0\n",
        "while(n!=0):\n",
        "    digit = n%10\n",
        "    result=result+pow(digit,n_digit)\n",
        "    n=int(n/10)\n",
        "if(result==copy_n):\n",
        "    print(\"Armstrong Number!\")\n",
        "else:\n",
        "    print(\"Not an Armstrong Number!\")"
      ],
      "execution_count": 2,
      "outputs": [
        {
          "output_type": "stream",
          "name": "stdout",
          "text": [
            "407\n",
            "Armstrong Number!\n"
          ]
        }
      ]
    }
  ]
}